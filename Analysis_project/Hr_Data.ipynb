{
 "cells": [
  {
   "cell_type": "code",
   "execution_count": 1,
   "id": "d1ecf581-9dd9-4e7c-a801-a94ba1659dac",
   "metadata": {},
   "outputs": [],
   "source": [
    "import numpy as np\n",
    "import pandas as pd"
   ]
  },
  {
   "cell_type": "markdown",
   "id": "2387aa93-2e91-485e-9dd4-1401f8033ef9",
   "metadata": {},
   "source": [
    "# Step -1: Business Problem\n",
    "- Detail Analytical Report on given data"
   ]
  },
  {
   "cell_type": "code",
   "execution_count": 2,
   "id": "bb5ccfe5-cd83-4436-81b5-b5f8fd42c393",
   "metadata": {},
   "outputs": [],
   "source": [
    "import matplotlib.pyplot as plt\n",
    "import seaborn as sns\n",
    "\n",
    "import warnings\n",
    "warnings.simplefilter(\"ignore\")"
   ]
  },
  {
   "cell_type": "markdown",
   "id": "8637aec2-45d6-4acc-ba27-ef0b0d0be7ea",
   "metadata": {},
   "source": [
    "# step 2.1 Load the Data"
   ]
  },
  {
   "cell_type": "code",
   "execution_count": 3,
   "id": "23a600b2-27e1-4e50-9317-3c09571c19a1",
   "metadata": {},
   "outputs": [
    {
     "data": {
      "text/html": [
       "<div>\n",
       "<style scoped>\n",
       "    .dataframe tbody tr th:only-of-type {\n",
       "        vertical-align: middle;\n",
       "    }\n",
       "\n",
       "    .dataframe tbody tr th {\n",
       "        vertical-align: top;\n",
       "    }\n",
       "\n",
       "    .dataframe thead th {\n",
       "        text-align: right;\n",
       "    }\n",
       "</style>\n",
       "<table border=\"1\" class=\"dataframe\">\n",
       "  <thead>\n",
       "    <tr style=\"text-align: right;\">\n",
       "      <th></th>\n",
       "      <th>Name</th>\n",
       "      <th>Gender</th>\n",
       "      <th>Age</th>\n",
       "      <th>Rating</th>\n",
       "      <th>Date Joined</th>\n",
       "      <th>Department</th>\n",
       "      <th>Salary</th>\n",
       "      <th>Country</th>\n",
       "    </tr>\n",
       "  </thead>\n",
       "  <tbody>\n",
       "    <tr>\n",
       "      <th>0</th>\n",
       "      <td>Parasuramudu Jamakayala</td>\n",
       "      <td>Male</td>\n",
       "      <td>20</td>\n",
       "      <td>Average</td>\n",
       "      <td>2020-10-18</td>\n",
       "      <td>Website</td>\n",
       "      <td>112650</td>\n",
       "      <td>IND</td>\n",
       "    </tr>\n",
       "    <tr>\n",
       "      <th>1</th>\n",
       "      <td>Yedukondalu Panditula</td>\n",
       "      <td>Male</td>\n",
       "      <td>32</td>\n",
       "      <td>Above average</td>\n",
       "      <td>2021-04-07</td>\n",
       "      <td>Website</td>\n",
       "      <td>43840</td>\n",
       "      <td>IND</td>\n",
       "    </tr>\n",
       "    <tr>\n",
       "      <th>2</th>\n",
       "      <td>Devsena Veluvalapalli</td>\n",
       "      <td>Female</td>\n",
       "      <td>31</td>\n",
       "      <td>Average</td>\n",
       "      <td>2022-04-12</td>\n",
       "      <td>Procurement</td>\n",
       "      <td>103550</td>\n",
       "      <td>IND</td>\n",
       "    </tr>\n",
       "    <tr>\n",
       "      <th>3</th>\n",
       "      <td>Gopal Venkata</td>\n",
       "      <td>Male</td>\n",
       "      <td>32</td>\n",
       "      <td>Average</td>\n",
       "      <td>2021-05-23</td>\n",
       "      <td>HR</td>\n",
       "      <td>45510</td>\n",
       "      <td>IND</td>\n",
       "    </tr>\n",
       "    <tr>\n",
       "      <th>4</th>\n",
       "      <td>Vasavi Veeravasarapu</td>\n",
       "      <td>Female</td>\n",
       "      <td>37</td>\n",
       "      <td>Poor</td>\n",
       "      <td>2020-09-11</td>\n",
       "      <td>Finance</td>\n",
       "      <td>115440</td>\n",
       "      <td>IND</td>\n",
       "    </tr>\n",
       "    <tr>\n",
       "      <th>...</th>\n",
       "      <td>...</td>\n",
       "      <td>...</td>\n",
       "      <td>...</td>\n",
       "      <td>...</td>\n",
       "      <td>...</td>\n",
       "      <td>...</td>\n",
       "      <td>...</td>\n",
       "      <td>...</td>\n",
       "    </tr>\n",
       "    <tr>\n",
       "      <th>178</th>\n",
       "      <td>Elia Cockton</td>\n",
       "      <td>Female</td>\n",
       "      <td>33</td>\n",
       "      <td>Average</td>\n",
       "      <td>2021-04-26</td>\n",
       "      <td>Website</td>\n",
       "      <td>75280</td>\n",
       "      <td>NZ</td>\n",
       "    </tr>\n",
       "    <tr>\n",
       "      <th>179</th>\n",
       "      <td>Gigi Bohling</td>\n",
       "      <td>Male</td>\n",
       "      <td>33</td>\n",
       "      <td>Average</td>\n",
       "      <td>2021-07-08</td>\n",
       "      <td>Sales</td>\n",
       "      <td>74550</td>\n",
       "      <td>NZ</td>\n",
       "    </tr>\n",
       "    <tr>\n",
       "      <th>180</th>\n",
       "      <td>Ebonee Roxburgh</td>\n",
       "      <td>Male</td>\n",
       "      <td>30</td>\n",
       "      <td>Average</td>\n",
       "      <td>2022-05-20</td>\n",
       "      <td>Procurement</td>\n",
       "      <td>67950</td>\n",
       "      <td>NZ</td>\n",
       "    </tr>\n",
       "    <tr>\n",
       "      <th>181</th>\n",
       "      <td>Shayne Stegel</td>\n",
       "      <td>Male</td>\n",
       "      <td>42</td>\n",
       "      <td>Poor</td>\n",
       "      <td>2022-06-19</td>\n",
       "      <td>Finance</td>\n",
       "      <td>70270</td>\n",
       "      <td>NZ</td>\n",
       "    </tr>\n",
       "    <tr>\n",
       "      <th>182</th>\n",
       "      <td>Zach Polon</td>\n",
       "      <td>Male</td>\n",
       "      <td>26</td>\n",
       "      <td>Average</td>\n",
       "      <td>2021-08-03</td>\n",
       "      <td>Procurement</td>\n",
       "      <td>53540</td>\n",
       "      <td>NZ</td>\n",
       "    </tr>\n",
       "  </tbody>\n",
       "</table>\n",
       "<p>183 rows × 8 columns</p>\n",
       "</div>"
      ],
      "text/plain": [
       "                        Name  Gender  Age         Rating Date Joined  \\\n",
       "0    Parasuramudu Jamakayala    Male   20        Average  2020-10-18   \n",
       "1      Yedukondalu Panditula    Male   32  Above average  2021-04-07   \n",
       "2      Devsena Veluvalapalli  Female   31        Average  2022-04-12   \n",
       "3              Gopal Venkata    Male   32        Average  2021-05-23   \n",
       "4       Vasavi Veeravasarapu  Female   37           Poor  2020-09-11   \n",
       "..                       ...     ...  ...            ...         ...   \n",
       "178             Elia Cockton  Female   33        Average  2021-04-26   \n",
       "179             Gigi Bohling    Male   33        Average  2021-07-08   \n",
       "180          Ebonee Roxburgh    Male   30        Average  2022-05-20   \n",
       "181            Shayne Stegel    Male   42           Poor  2022-06-19   \n",
       "182               Zach Polon    Male   26        Average  2021-08-03   \n",
       "\n",
       "      Department  Salary Country  \n",
       "0        Website  112650     IND  \n",
       "1        Website   43840     IND  \n",
       "2    Procurement  103550     IND  \n",
       "3             HR   45510     IND  \n",
       "4        Finance  115440     IND  \n",
       "..           ...     ...     ...  \n",
       "178      Website   75280      NZ  \n",
       "179        Sales   74550      NZ  \n",
       "180  Procurement   67950      NZ  \n",
       "181      Finance   70270      NZ  \n",
       "182  Procurement   53540      NZ  \n",
       "\n",
       "[183 rows x 8 columns]"
      ]
     },
     "execution_count": 3,
     "metadata": {},
     "output_type": "execute_result"
    }
   ],
   "source": [
    "df = pd.read_excel(r\"C:\\Users\\SHRI\\OneDrive\\Desktop\\DataScience_DataFiles\\hr-data.xlsx\")\n",
    "df"
   ]
  },
  {
   "cell_type": "code",
   "execution_count": 4,
   "id": "9351eb6f-8f40-4976-b1c3-b82440d87d72",
   "metadata": {},
   "outputs": [
    {
     "data": {
      "text/plain": [
       "Text(0, 0.5, 'Count')"
      ]
     },
     "execution_count": 4,
     "metadata": {},
     "output_type": "execute_result"
    },
    {
     "data": {
      "image/png": "[encoded data removed]",
      "text/plain": [
       "<Figure size 1000x600 with 1 Axes>"
      ]
     },
     "metadata": {},
     "output_type": "display_data"
    }
   ],
   "source": [
    "# Analysis related to gender and age\n",
    "\n",
    "\n",
    "# Age Distribution by Gender\n",
    "\n",
    "\n",
    "plt.figure(figsize=(10, 6))\n",
    "sns.histplot(data=df, x='Age', hue='Gender', multiple='dodge' ,bins=10)\n",
    "\n",
    "plt.title('Age Distribution by Gender', fontsize=14)\n",
    "plt.xlabel('Age', fontsize=12)\n",
    "plt.ylabel('Count', fontsize=12)\n"
   ]
  },
  {
   "cell_type": "code",
   "execution_count": 5,
   "id": "de514ab3-ebb9-4b56-ad8c-590af9487cb7",
   "metadata": {},
   "outputs": [
    {
     "data": {
      "text/plain": [
       "30.48087431693989"
      ]
     },
     "execution_count": 5,
     "metadata": {},
     "output_type": "execute_result"
    }
   ],
   "source": [
    "df[\"Age\"].mean()"
   ]
  },
  {
   "cell_type": "code",
   "execution_count": 14,
   "id": "aef0340c-dc64-4ba6-913a-c0cc5dc67626",
   "metadata": {},
   "outputs": [
    {
     "data": {
      "text/html": [
       "<div>\n",
       "<style scoped>\n",
       "    .dataframe tbody tr th:only-of-type {\n",
       "        vertical-align: middle;\n",
       "    }\n",
       "\n",
       "    .dataframe tbody tr th {\n",
       "        vertical-align: top;\n",
       "    }\n",
       "\n",
       "    .dataframe thead th {\n",
       "        text-align: right;\n",
       "    }\n",
       "</style>\n",
       "<table border=\"1\" class=\"dataframe\">\n",
       "  <thead>\n",
       "    <tr style=\"text-align: right;\">\n",
       "      <th></th>\n",
       "      <th>Name</th>\n",
       "      <th>Gender</th>\n",
       "      <th>Age</th>\n",
       "      <th>Rating</th>\n",
       "      <th>Date Joined</th>\n",
       "      <th>Department</th>\n",
       "      <th>Salary</th>\n",
       "      <th>Country</th>\n",
       "      <th>Age_Group</th>\n",
       "    </tr>\n",
       "  </thead>\n",
       "  <tbody>\n",
       "    <tr>\n",
       "      <th>0</th>\n",
       "      <td>Parasuramudu Jamakayala</td>\n",
       "      <td>Male</td>\n",
       "      <td>20</td>\n",
       "      <td>Average</td>\n",
       "      <td>2020-10-18</td>\n",
       "      <td>Website</td>\n",
       "      <td>112650</td>\n",
       "      <td>IND</td>\n",
       "      <td>20-30</td>\n",
       "    </tr>\n",
       "    <tr>\n",
       "      <th>1</th>\n",
       "      <td>Yedukondalu Panditula</td>\n",
       "      <td>Male</td>\n",
       "      <td>32</td>\n",
       "      <td>Above average</td>\n",
       "      <td>2021-04-07</td>\n",
       "      <td>Website</td>\n",
       "      <td>43840</td>\n",
       "      <td>IND</td>\n",
       "      <td>31-40</td>\n",
       "    </tr>\n",
       "    <tr>\n",
       "      <th>2</th>\n",
       "      <td>Devsena Veluvalapalli</td>\n",
       "      <td>Female</td>\n",
       "      <td>31</td>\n",
       "      <td>Average</td>\n",
       "      <td>2022-04-12</td>\n",
       "      <td>Procurement</td>\n",
       "      <td>103550</td>\n",
       "      <td>IND</td>\n",
       "      <td>31-40</td>\n",
       "    </tr>\n",
       "    <tr>\n",
       "      <th>3</th>\n",
       "      <td>Gopal Venkata</td>\n",
       "      <td>Male</td>\n",
       "      <td>32</td>\n",
       "      <td>Average</td>\n",
       "      <td>2021-05-23</td>\n",
       "      <td>HR</td>\n",
       "      <td>45510</td>\n",
       "      <td>IND</td>\n",
       "      <td>31-40</td>\n",
       "    </tr>\n",
       "    <tr>\n",
       "      <th>4</th>\n",
       "      <td>Vasavi Veeravasarapu</td>\n",
       "      <td>Female</td>\n",
       "      <td>37</td>\n",
       "      <td>Poor</td>\n",
       "      <td>2020-09-11</td>\n",
       "      <td>Finance</td>\n",
       "      <td>115440</td>\n",
       "      <td>IND</td>\n",
       "      <td>31-40</td>\n",
       "    </tr>\n",
       "  </tbody>\n",
       "</table>\n",
       "</div>"
      ],
      "text/plain": [
       "                      Name  Gender  Age         Rating Date Joined  \\\n",
       "0  Parasuramudu Jamakayala    Male   20        Average  2020-10-18   \n",
       "1    Yedukondalu Panditula    Male   32  Above average  2021-04-07   \n",
       "2    Devsena Veluvalapalli  Female   31        Average  2022-04-12   \n",
       "3            Gopal Venkata    Male   32        Average  2021-05-23   \n",
       "4     Vasavi Veeravasarapu  Female   37           Poor  2020-09-11   \n",
       "\n",
       "    Department  Salary Country Age_Group  \n",
       "0      Website  112650     IND     20-30  \n",
       "1      Website   43840     IND     31-40  \n",
       "2  Procurement  103550     IND     31-40  \n",
       "3           HR   45510     IND     31-40  \n",
       "4      Finance  115440     IND     31-40  "
      ]
     },
     "execution_count": 14,
     "metadata": {},
     "output_type": "execute_result"
    }
   ],
   "source": [
    "# Average Salary by Gender and Age Group: What is the average salary for different age groups (e.g., 20-30, 31-40, 41-50) for each gender? How does salary differ based on age and gender?\n",
    "bins = [19, 30, 40, 50]  # Numerical ranges\n",
    "labels = ['20-30', '31-40', '41-50']  # Corresponding labels\n",
    "\n",
    "# Create the Age Group column\n",
    "df['Age_Group'] = pd.cut(df['Age'], bins=bins, labels=labels, right=True)\n",
    "df.head()\n"
   ]
  },
  {
   "cell_type": "code",
   "execution_count": 7,
   "id": "50c7a77c-52f3-48d1-bef5-a9cc4e955d0c",
   "metadata": {},
   "outputs": [
    {
     "data": {
      "text/plain": [
       "Gender  Age_Group\n",
       "Female  20-30         79770.588235\n",
       "        31-40         79274.444444\n",
       "        41-50         94935.000000\n",
       "Male    20-30         74920.000000\n",
       "        31-40         71613.437500\n",
       "        41-50         58973.333333\n",
       "Other   20-30         77350.000000\n",
       "        31-40        103375.000000\n",
       "        41-50                  NaN\n",
       "Name: Salary, dtype: float64"
      ]
     },
     "execution_count": 7,
     "metadata": {},
     "output_type": "execute_result"
    }
   ],
   "source": [
    "average_salary = df.groupby([\"Gender\", \"Age_Group\"])['Salary'].mean()\n",
    "average_salary "
   ]
  },
  {
   "cell_type": "code",
   "execution_count": 12,
   "id": "35beec48-2130-4d9d-bcaa-7d1ca199aa03",
   "metadata": {},
   "outputs": [
    {
     "data": {
      "image/png": "[encoded data removed]",
      "text/plain": [
       "<Figure size 800x600 with 1 Axes>"
      ]
     },
     "metadata": {},
     "output_type": "display_data"
    }
   ],
   "source": [
    "\n",
    "average_salary_df = average_salary.reset_index()\n",
    "\n",
    "# Bar plot using Seaborn\n",
    "plt.figure(figsize=(8, 6))\n",
    "sns.barplot(data=average_salary_df, x='Age_Group', y='Salary', hue='Gender')\n",
    "\n",
    "# Add labels and title\n",
    "plt.title('Average Salary by Gender and Age Group', fontsize=14)\n",
    "plt.xlabel('Age Group', fontsize=12)\n",
    "plt.ylabel('Average Salary', fontsize=12)\n",
    "plt.legend(title='Gender', fontsize=10)\n",
    "\n",
    "\n",
    "\n",
    "plt.show()\n"
   ]
  },
  {
   "cell_type": "code",
   "execution_count": 16,
   "id": "c47d8957-4b38-44ce-bf9a-77975ea67862",
   "metadata": {},
   "outputs": [
    {
     "data": {
      "text/plain": [
       "Age_Group  Gender\n",
       "20-30      Female    119110.0\n",
       "           Male      113280.0\n",
       "           Other      90700.0\n",
       "31-40      Female    118100.0\n",
       "           Male      118840.0\n",
       "           Other     115440.0\n",
       "41-50      Female    114870.0\n",
       "           Male       70610.0\n",
       "           Other          NaN\n",
       "Name: Salary, dtype: float64"
      ]
     },
     "execution_count": 16,
     "metadata": {},
     "output_type": "execute_result"
    }
   ],
   "source": [
    "# Age Group with the Highest Salary by Gender:\n",
    "#Which age group has the highest average salary for each gender? \n",
    "# are older employees earning more than younger employees within each gender?\n",
    "\n",
    "highest_salary = df.groupby([\"Age_Group\", \"Gender\"])[\"Salary\"].max()\n",
    "highest_salary"
   ]
  },
  {
   "cell_type": "code",
   "execution_count": 23,
   "id": "436c3def-2cb1-4908-b9ff-cef7987965a5",
   "metadata": {},
   "outputs": [
    {
     "data": {
      "text/plain": [
       "<Axes: xlabel='Age_Group', ylabel='Salary'>"
      ]
     },
     "execution_count": 23,
     "metadata": {},
     "output_type": "execute_result"
    },
    {
     "data": {
      "image/png": "[encoded data removed]",
      "text/plain": [
       "<Figure size 640x480 with 1 Axes>"
      ]
     },
     "metadata": {},
     "output_type": "display_data"
    }
   ],
   "source": [
    "sns.barplot(data=average_salary_df, x='Age_Group', y='Salary', hue='Gender')"
   ]
  },
  {
   "cell_type": "code",
   "execution_count": 57,
   "id": "26e4afef-c9c1-4c43-b9ed-30655c261c3d",
   "metadata": {},
   "outputs": [
    {
     "data": {
      "text/plain": [
       "Gender  Age_Group  Rating_Num\n",
       "Female  20-30      1.0            4\n",
       "                   2.0           28\n",
       "                   3.0            4\n",
       "        31-40      1.0            3\n",
       "                   2.0           36\n",
       "                   3.0            2\n",
       "        41-50      1.0            0\n",
       "                   2.0            2\n",
       "                   3.0            0\n",
       "Male    20-30      1.0            4\n",
       "                   2.0           38\n",
       "                   3.0            8\n",
       "        31-40      1.0            2\n",
       "                   2.0           26\n",
       "                   3.0            4\n",
       "        41-50      1.0            2\n",
       "                   2.0            4\n",
       "                   3.0            0\n",
       "Other   20-30      1.0            0\n",
       "                   2.0            2\n",
       "                   3.0            2\n",
       "        31-40      1.0            1\n",
       "                   2.0            1\n",
       "                   3.0            0\n",
       "        41-50      1.0            0\n",
       "                   2.0            0\n",
       "                   3.0            0\n",
       "dtype: int64"
      ]
     },
     "execution_count": 57,
     "metadata": {},
     "output_type": "execute_result"
    }
   ],
   "source": [
    "#Gender and Age Impact on Employee Rating: \n",
    "# Is there any correlation between gender, age, and employee ratings (e.g., Poor, Average, Above Average)? \n",
    "# Do older employees tend to have better ratings, and does this vary by gender?\n",
    "\n",
    "# Group by Gender and Age Group and calculate the mean Rating\n",
    "rating_map = {'Poor': 1, 'Average': 2, 'Above average': 3}  # Encoding Ratings numerically\n",
    "df['Rating_Num'] = df['Rating'].map(rating_map)\n",
    "\n",
    "\n",
    "mean_ratings = df.groupby(['Gender', 'Age_Group'])['Rating_Num'].mean().reset_index()\n",
    "mean_ratings\n",
    "\n",
    "rating_distribution = df.groupby(['Gender','Age_Group','Rating_Num']).size()\n",
    "rating_distribution"
   ]
  },
  {
   "cell_type": "code",
   "execution_count": 30,
   "id": "52584be2-a8d9-4059-98ff-ae26d899c2c5",
   "metadata": {},
   "outputs": [
    {
     "data": {
      "text/html": [
       "<div>\n",
       "<style scoped>\n",
       "    .dataframe tbody tr th:only-of-type {\n",
       "        vertical-align: middle;\n",
       "    }\n",
       "\n",
       "    .dataframe tbody tr th {\n",
       "        vertical-align: top;\n",
       "    }\n",
       "\n",
       "    .dataframe thead th {\n",
       "        text-align: right;\n",
       "    }\n",
       "</style>\n",
       "<table border=\"1\" class=\"dataframe\">\n",
       "  <thead>\n",
       "    <tr style=\"text-align: right;\">\n",
       "      <th>Age_Group</th>\n",
       "      <th>20-30</th>\n",
       "      <th>31-40</th>\n",
       "      <th>41-50</th>\n",
       "    </tr>\n",
       "    <tr>\n",
       "      <th>Gender</th>\n",
       "      <th></th>\n",
       "      <th></th>\n",
       "      <th></th>\n",
       "    </tr>\n",
       "  </thead>\n",
       "  <tbody>\n",
       "    <tr>\n",
       "      <th>Female</th>\n",
       "      <td>36</td>\n",
       "      <td>45</td>\n",
       "      <td>4</td>\n",
       "    </tr>\n",
       "    <tr>\n",
       "      <th>Male</th>\n",
       "      <td>54</td>\n",
       "      <td>32</td>\n",
       "      <td>6</td>\n",
       "    </tr>\n",
       "    <tr>\n",
       "      <th>Other</th>\n",
       "      <td>4</td>\n",
       "      <td>2</td>\n",
       "      <td>0</td>\n",
       "    </tr>\n",
       "  </tbody>\n",
       "</table>\n",
       "</div>"
      ],
      "text/plain": [
       "Age_Group  20-30  31-40  41-50\n",
       "Gender                        \n",
       "Female        36     45      4\n",
       "Male          54     32      6\n",
       "Other          4      2      0"
      ]
     },
     "execution_count": 30,
     "metadata": {},
     "output_type": "execute_result"
    }
   ],
   "source": [
    "pd.crosstab(df[\"Gender\"],df[\"Age_Group\"])"
   ]
  },
  {
   "cell_type": "code",
   "execution_count": 59,
   "id": "42f0ded6-b131-448f-9668-866cee734dbd",
   "metadata": {},
   "outputs": [
    {
     "data": {
      "image/png": "[encoded data removed]",
      "text/plain": [
       "<Figure size 640x480 with 1 Axes>"
      ]
     },
     "metadata": {},
     "output_type": "display_data"
    }
   ],
   "source": [
    "sns.barplot(data=mean_ratings, x='Age_Group', y='Rating_Num', hue='Gender')\n",
    "plt.title(\"Mean Ratings by Gender and Age Group\")\n",
    "plt.show()"
   ]
  },
  {
   "cell_type": "code",
   "execution_count": 58,
   "id": "d17f6765-2956-4713-bea9-6ae1daa42d42",
   "metadata": {},
   "outputs": [
    {
     "name": "stdout",
     "output_type": "stream",
     "text": [
      "<class 'pandas.core.frame.DataFrame'>\n"
     ]
    }
   ],
   "source": [
    "print(type(mean_ratings)) "
   ]
  },
  {
   "cell_type": "code",
   "execution_count": null,
   "id": "98442b8d-aa6f-4bd1-957a-3397df763348",
   "metadata": {},
   "outputs": [],
   "source": []
  }
 ],
 "metadata": {
  "kernelspec": {
   "display_name": "Python 3 (ipykernel)",
   "language": "python",
   "name": "python3"
  },
  "language_info": {
   "codemirror_mode": {
    "name": "ipython",
    "version": 3
   },
   "file_extension": ".py",
   "mimetype": "text/x-python",
   "name": "python",
   "nbconvert_exporter": "python",
   "pygments_lexer": "ipython3",
   "version": "3.12.4"
  }
 },
 "nbformat": 4,
 "nbformat_minor": 5
}
